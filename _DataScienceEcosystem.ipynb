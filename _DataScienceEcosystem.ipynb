{
 "cells": [
  {
   "cell_type": "markdown",
   "id": "03d977eb-7278-4efd-b7f8-2e9b549e1871",
   "metadata": {},
   "source": []
  },
  {
   "cell_type": "markdown",
   "id": "df82b793-15bf-43f1-8d94-e31b2aebb5fb",
   "metadata": {
    "tags": []
   },
   "source": [
    "# Data Science Tools and Ecosystem"
   ]
  },
  {
   "cell_type": "markdown",
   "id": "53e9b34f-3cd2-469a-b1d2-7a1689fcbfc8",
   "metadata": {
    "tags": []
   },
   "source": [
    "In this notebook, Data Science Tools and Ecosystem are summarized.\n"
   ]
  },
  {
   "cell_type": "markdown",
   "id": "9367a2cf-5faa-4cac-90ad-f2f96d6c0aab",
   "metadata": {},
   "source": [
    "### Objective \n",
    "1.In this course i expolred jupyter notebook \n",
    "2.I learned how can i use Github. \n",
    "3.learn different between type of libraries. \n",
    "4.learn types of database.\n",
    "5.List popular languages for Data Science.\n"
   ]
  },
  {
   "cell_type": "markdown",
   "id": "00c3f4a3-35ba-4869-b8fc-5d59b936f35a",
   "metadata": {},
   "source": [
    "Some of the popular languages that Data Scientists use are:\n",
    "1. python \n",
    "2. R\n",
    "3. SQL\n",
    "4. Javascript\n",
    "5. julia\n",
    "6.java\n",
    "7.scala\n"
   ]
  },
  {
   "cell_type": "markdown",
   "id": "a1f29757-86cb-4d3b-ae38-d754a8223143",
   "metadata": {},
   "source": [
    "Some of the commonly used libraries used by Data Scientists include:\n",
    "1.pandas \n",
    "2.Nympy\n",
    "3.Scipy \n",
    "4.Matpotlib\n",
    "5.Keras\n",
    "6.TensorFlow\n",
    "7.Scrapy\n",
    "8.PyTorch\n",
    "\n"
   ]
  },
  {
   "cell_type": "markdown",
   "id": "11129e47-a12a-4ce3-a7ae-1076fe9de81e",
   "metadata": {
    "tags": []
   },
   "source": [
    "### "
   ]
  },
  {
   "cell_type": "markdown",
   "id": "d6dfca24-0441-4e58-99f7-51e29ce0d9f4",
   "metadata": {},
   "source": [
    "This will convert 200 minutes to hours by diving by 60"
   ]
  },
  {
   "cell_type": "markdown",
   "id": "32747723-cb75-46b0-8d10-e50d351a24af",
   "metadata": {
    "tags": []
   },
   "source": [
    "minute= int (input (\"Inter minutes to convert it to hours\"))\n",
    "hours= minute//60\n",
    "print(\"hours =\" , hours)\n",
    "            "
   ]
  },
  {
   "cell_type": "markdown",
   "id": "9b9e02f3-24ea-44a2-a6b9-19e705a83793",
   "metadata": {},
   "source": [
    "## Author \n",
    "## Saeed y Alqhtani "
   ]
  },
  {
   "cell_type": "code",
   "execution_count": null,
   "id": "90078641-44f2-41aa-a31e-fb9d162b031a",
   "metadata": {},
   "outputs": [],
   "source": []
  }
 ],
 "metadata": {
  "kernelspec": {
   "display_name": "Python",
   "language": "python",
   "name": "conda-env-python-py"
  },
  "language_info": {
   "codemirror_mode": {
    "name": "ipython",
    "version": 3
   },
   "file_extension": ".py",
   "mimetype": "text/x-python",
   "name": "python",
   "nbconvert_exporter": "python",
   "pygments_lexer": "ipython3",
   "version": "3.7.12"
  }
 },
 "nbformat": 4,
 "nbformat_minor": 5
}
